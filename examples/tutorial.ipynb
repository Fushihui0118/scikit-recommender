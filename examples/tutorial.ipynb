{
 "cells": [
  {
   "cell_type": "markdown",
   "metadata": {},
   "source": [
    "# A tutorial for Scikit-Recommender"
   ]
  },
  {
   "cell_type": "markdown",
   "metadata": {},
   "source": [
    "## Download and extract dataset"
   ]
  },
  {
   "cell_type": "code",
   "execution_count": 1,
   "metadata": {},
   "outputs": [
    {
     "ename": "ModuleNotFoundError",
     "evalue": "No module named 'skrec'",
     "traceback": [
      "\u001b[1;31m---------------------------------------------------------------------------\u001b[0m",
      "\u001b[1;31mModuleNotFoundError\u001b[0m                       Traceback (most recent call last)",
      "\u001b[1;32m<ipython-input-1-66ed5e5391bd>\u001b[0m in \u001b[0;36m<module>\u001b[1;34m\u001b[0m\n\u001b[1;32m----> 1\u001b[1;33m \u001b[1;32mfrom\u001b[0m \u001b[0mskrec\u001b[0m\u001b[1;33m.\u001b[0m\u001b[0mio\u001b[0m \u001b[1;32mimport\u001b[0m \u001b[0mMovieLens100k\u001b[0m\u001b[1;33m\u001b[0m\u001b[1;33m\u001b[0m\u001b[0m\n\u001b[0m\u001b[0;32m      2\u001b[0m \u001b[1;33m\u001b[0m\u001b[0m\n\u001b[0;32m      3\u001b[0m \u001b[0mdata_path\u001b[0m \u001b[1;33m=\u001b[0m \u001b[0mMovieLens100k\u001b[0m\u001b[1;33m.\u001b[0m\u001b[0mdownload_and_extract\u001b[0m\u001b[1;33m(\u001b[0m\u001b[1;34m\"./dataset\"\u001b[0m\u001b[1;33m)\u001b[0m\u001b[1;33m\u001b[0m\u001b[1;33m\u001b[0m\u001b[0m\n",
      "\u001b[1;31mModuleNotFoundError\u001b[0m: No module named 'skrec'"
     ],
     "output_type": "error"
    }
   ],
   "source": [
    "from skrec.io import MovieLens100k\n",
    "\n",
    "data_path = MovieLens100k.download_and_extract(\"./dataset\")"
   ]
  },
  {
   "cell_type": "markdown",
   "metadata": {},
   "source": [
    "## Pre-process and save dataset"
   ]
  },
  {
   "cell_type": "code",
   "execution_count": null,
   "metadata": {},
   "outputs": [],
   "source": [
    "from skrec.io import Preprocessor\n",
    "\n",
    "processor = Preprocessor()\n",
    "processor.load_data(data_path, sep=\"\\t\", columns=\"UIRT\")\n",
    "processor.drop_duplicates(keep=\"last\")  # remove duplicate interactions\n",
    "processor.filter_data(user_min=5, item_min=5)  # filter users and items with few interactions\n",
    "processor.remap_data_id()  # remap IDs of users and items\n",
    "# data.split_data_by_leave_out(valid=1, test=1)\n",
    "processor.split_data_by_ratio(train=0.7, valid=0.0, test=0.3, by_time=True)  # split dataset\n",
    "data_dir = processor.save_data()# save to disk"
   ]
  },
  {
   "cell_type": "markdown",
   "metadata": {},
   "source": [
    "## Read config"
   ]
  },
  {
   "cell_type": "code",
   "execution_count": null,
   "metadata": {},
   "outputs": [],
   "source": [
    "from typing import Union, Tuple, List\n",
    "from skrec import Config\n",
    "\n",
    "class RunConfig(Config):\n",
    "    def __init__(self,\n",
    "                 recommender=\"BPRMF\",\n",
    "                 data_dir=\"\",\n",
    "                 file_column=\"UIRT\", column_sep='\\t',\n",
    "                 gpu_id=0, gpu_mem=0.99,\n",
    "                 metric=(\"Precision\", \"Recall\", \"MAP\", \"NDCG\", \"MRR\"),\n",
    "                 top_k=(10, 20, 30, 40, 50, 100),\n",
    "                 test_batch_size=64,\n",
    "                 test_thread=4,\n",
    "                 seed=2021,\n",
    "                 **kwargs):\n",
    "        super(RunConfig, self).__init__(**kwargs)\n",
    "        self.recommender: str = recommender\n",
    "        self.data_dir: str = data_dir\n",
    "        self.file_column: str = file_column\n",
    "        self.sep: str = column_sep\n",
    "        self.gpu_id = gpu_id\n",
    "        self.gpu_mem = gpu_mem\n",
    "        self.metric: Union[None, str, Tuple[str], List[str]] = metric\n",
    "        self.top_k: Union[int, List[int], Tuple[int]] = top_k\n",
    "        self.test_batch_size: int = test_batch_size\n",
    "        self.test_thread: int = test_thread\n",
    "        self.seed = seed\n",
    "\n",
    "    def _validate(self):\n",
    "        assert isinstance(self.recommender, str)\n",
    "        assert isinstance(self.data_dir, str)\n",
    "        assert isinstance(self.file_column, str)\n",
    "        assert isinstance(self.sep, str)\n",
    "        assert isinstance(self.test_batch_size, int) and self.test_batch_size > 0\n",
    "        assert isinstance(self.test_thread, int) and self.test_thread > 0\n",
    "        assert isinstance(self.seed, int) and self.seed >= 0"
   ]
  },
  {
   "cell_type": "code",
   "execution_count": null,
   "metadata": {},
   "outputs": [],
   "source": [
    "run_config = RunConfig()\n",
    "run_config.parse_args_from_ini(\"./skrec.ini\")  # parse args from file and overwrite the default values\n",
    "# run_config.parse_args_from_cmd()  # parse args from cmd and overwrite the previous values"
   ]
  },
  {
   "cell_type": "markdown",
   "metadata": {},
   "source": [
    "## Load dataset"
   ]
  },
  {
   "cell_type": "code",
   "execution_count": null,
   "metadata": {},
   "outputs": [],
   "source": [
    "from skrec import Dataset\n",
    "\n",
    "dataset = Dataset(run_config.data_dir, run_config.sep, run_config.file_column)"
   ]
  },
  {
   "cell_type": "markdown",
   "metadata": {},
   "source": [
    "## Create evaluator"
   ]
  },
  {
   "cell_type": "code",
   "execution_count": null,
   "metadata": {},
   "outputs": [],
   "source": [
    "from skrec import RankingEvaluator\n",
    "\n",
    "evaluator = RankingEvaluator(dataset.train_data.to_user_dict(),\n",
    "                                 dataset.test_data.to_user_dict(),\n",
    "                                 metric=run_config.metric, top_k=run_config.top_k,\n",
    "                                 batch_size=run_config.test_batch_size,\n",
    "                                 num_thread=run_config.test_thread)"
   ]
  },
  {
   "cell_type": "markdown",
   "metadata": {},
   "source": [
    "## Create model"
   ]
  },
  {
   "cell_type": "code",
   "execution_count": null,
   "metadata": {},
   "outputs": [],
   "source": [
    "from skrec.recommender.BPRMF import BPRMF, BPRMFConfig\n",
    "\n",
    "bpr_config = BPRMFConfig(epochs=50)\n",
    "bpr_config.parse_args_from_ini(\"./skrec.ini\")  # , \"bpr\"\n",
    "\n",
    "bpr_model = BPRMF(dataset, bpr_config, evaluator)"
   ]
  },
  {
   "cell_type": "markdown",
   "metadata": {},
   "source": [
    "## Train model"
   ]
  },
  {
   "cell_type": "code",
   "execution_count": null,
   "metadata": {},
   "outputs": [],
   "source": [
    "bpr_model.fit()"
   ]
  }
 ],
 "metadata": {
  "kernelspec": {
   "display_name": "Python 3",
   "language": "python",
   "name": "python3"
  },
  "language_info": {
   "codemirror_mode": {
    "name": "ipython",
    "version": 3
   },
   "file_extension": ".py",
   "mimetype": "text/x-python",
   "name": "python",
   "nbconvert_exporter": "python",
   "pygments_lexer": "ipython3",
   "version": "3.7.6"
  }
 },
 "nbformat": 4,
 "nbformat_minor": 1
}
